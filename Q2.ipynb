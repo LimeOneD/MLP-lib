{
 "cells": [
  {
   "cell_type": "code",
   "execution_count": 12,
   "id": "17f656f3-b13f-423a-a139-d76063de6fc6",
   "metadata": {},
   "outputs": [],
   "source": [
    "weights = []\n",
    "bias = []\n",
    "layers = [2,4,4,1]\n",
    "for i in range(len(layers)-1):\n",
    "        weights_ = np.random.uniform(size=(layers[i+1], layers[i]))\n",
    "        bias_ = np.random.uniform(size=(layers[i+1]))\n",
    "        weights.append(weights_)\n",
    "        bias.append(bias_)"
   ]
  },
  {
   "cell_type": "code",
   "execution_count": 13,
   "id": "86b4d169-af25-4cfb-b81f-8274a4138232",
   "metadata": {},
   "outputs": [
    {
     "data": {
      "text/plain": [
       "[array([[0.70872488, 0.33164448],\n",
       "        [0.30840156, 0.54162384],\n",
       "        [0.99394808, 0.54033241],\n",
       "        [0.47459346, 0.22070904]]),\n",
       " array([[0.26526666, 0.24948745, 0.67367538, 0.30540259],\n",
       "        [0.43222297, 0.27200977, 0.4815022 , 0.17263213],\n",
       "        [0.99367128, 0.49275322, 0.23736844, 0.10923455],\n",
       "        [0.95850929, 0.34737467, 0.88453053, 0.18973379]]),\n",
       " array([[0.12788184, 0.48152751, 0.84135904, 0.34580931]])]"
      ]
     },
     "execution_count": 13,
     "metadata": {},
     "output_type": "execute_result"
    }
   ],
   "source": [
    "weights\n"
   ]
  },
  {
   "cell_type": "code",
   "execution_count": null,
   "id": "8e6e735e-8f6a-4d8b-9116-cc2a5147363d",
   "metadata": {},
   "outputs": [],
   "source": [
    "def sigmoid(x):\n",
    "    # Use a conditional statement to avoid overflow\n",
    "    if x >= 0:\n",
    "        return 1 / (1 + np.exp(-x))\n",
    "    else:\n",
    "        return np.exp(x) / (1 + np.exp(x))\n",
    "\n",
    "def sigmoid_derivative(x):\n",
    "    # Compute sigmoid function\n",
    "    sig_x = sigmoid(x)\n",
    "    # Compute derivative\n",
    "    return sig_x * (1 - sig_x)"
   ]
  }
 ],
 "metadata": {
  "kernelspec": {
   "display_name": "Python 3 (ipykernel)",
   "language": "python",
   "name": "python3"
  },
  "language_info": {
   "codemirror_mode": {
    "name": "ipython",
    "version": 3
   },
   "file_extension": ".py",
   "mimetype": "text/x-python",
   "name": "python",
   "nbconvert_exporter": "python",
   "pygments_lexer": "ipython3",
   "version": "3.10.13"
  }
 },
 "nbformat": 4,
 "nbformat_minor": 5
}
