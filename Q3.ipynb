{
 "cells": [
  {
   "cell_type": "code",
   "execution_count": 736,
   "id": "db5ae644-1260-4b25-adf4-57c474ef38e2",
   "metadata": {},
   "outputs": [],
   "source": [
    "import numpy as np\n",
    "import random\n",
    "import math\n",
    "\n",
    "\n",
    "class Binary_classificatoin:\n",
    "    def __init__(self, layers):\n",
    "        self.layers = layers\n",
    "        self.weights =[]\n",
    "        self.bias = []\n",
    "        self.h=[]\n",
    "        self.a=[]\n",
    "        self.res = []\n",
    "        self.loss = []\n",
    "\n",
    "        for i in range(len(self.layers)-1):\n",
    "            weights_ = np.array([[random.random()]*self.layers[i] for _ in range(self.layers[i+1])])\n",
    "            bias_ = np.array([random.random() for _ in range(self.layers[i+1])])\n",
    "            self.weights.append(weights_)\n",
    "            self.bias.append(bias_)\n",
    "\n",
    "    def sigmoid(self, l):\n",
    "        answers = []\n",
    "        for value in l:\n",
    "            sig = 1 / (1 + np.exp(value))\n",
    "            answers.append(sig)\n",
    "        return answers\n",
    "\n",
    "    def binary_crossentropy_loss(self, y_pred, y):\n",
    "        return -(y*math.log(y_pred[0])+ (1-y)*math.log(1-y_pred[0]))\n",
    "\n",
    "    def crosentropy_gad(self, y_pred, y):\n",
    "        return (( (1-y)/(1-y_pred) )-( y/y_pred ))\n",
    "\n",
    "    def sigmoid_grad(self, l):\n",
    "        answers = []\n",
    "        for value in l:\n",
    "            sig_g = (1 / (1 + np.exp(value)))* (1-(1 / (1 + np.exp(value))))\n",
    "            answers.append(sig_g)\n",
    "        return answers\n",
    "        \n",
    "\n",
    "    def forward(self, X, y):\n",
    "        h_ =[]\n",
    "        \n",
    "        for i in range(len(X)):\n",
    "            h_ = X[i]\n",
    "            a_temp = []\n",
    "            h_temp = []\n",
    "            for j in range(len(self.weights)):\n",
    "                a_= np.dot(self.weights[j], h_)+self.bias[j]\n",
    "                a_temp.append(a_)\n",
    "                h_= self.sigmoid(a_)\n",
    "                h_temp.append(np.array(h_))\n",
    "                if(j==len(self.weights)-1):\n",
    "                    self.res.append(h_)\n",
    "                    self.loss.append(self.binary_crossentropy_loss(h_, y[i]))\n",
    "            self.h.append(h_temp)\n",
    "            self.a.append(a_temp)\n",
    "            \n",
    "            \n",
    "    def backward(self, X, y, res, learning_rate):\n",
    "        for i in range(len(y)):\n",
    "            dh = []\n",
    "            da = []\n",
    "            dw = []\n",
    "            db = []\n",
    "            h_g = self.crosentropy_gad(res[i][0], y[i])\n",
    "            dh.append([h_g])\n",
    "            a_g = res[i][0]*(1-res[i][0])\n",
    "            da.append([a_g])\n",
    "            for j in range(len(self.layers)-2, 0, -1):\n",
    "                h_g = np.dot(self.weights[j].T, self.a[i][j])*da[-1]\n",
    "                dh.append(h_g)\n",
    "                a_g = self.sigmoid_grad(h_g)\n",
    "                da.append(a_g)\n",
    "            da.reverse() \n",
    "            dh.reverse()\n",
    "            for j in range(len(self.weights)-1,-1,-1):\n",
    "                if(j==0):\n",
    "                    w_g = (np.array([X[i]]*self.layers[j+1]).T *da[j]).T\n",
    "                else:\n",
    "                    w_g = (np.array([self.h[i][j-1]]*self.layers[j+1]).T * da[j]).T\n",
    "                dw.append(w_g)\n",
    "            dw.reverse()\n",
    "            db = da\n",
    "            for i in range(len(self.weights)):\n",
    "                self.weights[i] -= learning_rate* np.array(dw[i])\n",
    "                self.bias[i] -= learning_rate* np.array(db[i])\n",
    "\n",
    "\n",
    "    def fit(self, X, y, learning_rate, epoch):\n",
    "        for _ in range(epoch-1):\n",
    "            self.forward(X, y)\n",
    "            self.backward(X,y, self.res, learning_rate)\n",
    "\n",
    "        self.forward(X,y)\n",
    "\n",
    "\n",
    "\n",
    "\n",
    "\n",
    "\n",
    "\n",
    "                "
   ]
  },
  {
   "cell_type": "code",
   "execution_count": 737,
   "id": "06df18b3-8c95-48d0-9830-3859daa40f86",
   "metadata": {},
   "outputs": [],
   "source": [
    "n = Binary_classificatoin([2,4,4,1])"
   ]
  },
  {
   "cell_type": "code",
   "execution_count": 738,
   "id": "a77e4601-688f-4713-b927-c787bab4cee5",
   "metadata": {},
   "outputs": [],
   "source": [
    "n.forward(np.array([[1,2],[2,3]]), [1,0])"
   ]
  },
  {
   "cell_type": "code",
   "execution_count": 739,
   "id": "f7547357-082f-4e32-9dc3-a937804d6153",
   "metadata": {},
   "outputs": [],
   "source": [
    "da, dh, dw, db = n.backward(np.array([[1,2],[2,3]]), [1,0], n.res)\n"
   ]
  },
  {
   "cell_type": "code",
   "execution_count": 740,
   "id": "373c69d3-464a-444f-a202-d58cbdc98f6c",
   "metadata": {},
   "outputs": [
    {
     "data": {
      "text/plain": [
       "[[0.24728501003748946,\n",
       "  0.24728501003748946,\n",
       "  0.24728501003748946,\n",
       "  0.24728501003748946],\n",
       " [0.24775184595226393,\n",
       "  0.24775184595226393,\n",
       "  0.24775184595226393,\n",
       "  0.24775184595226393],\n",
       " [0.14726587684754022]]"
      ]
     },
     "execution_count": 740,
     "metadata": {},
     "output_type": "execute_result"
    }
   ],
   "source": [
    "da"
   ]
  },
  {
   "cell_type": "code",
   "execution_count": 741,
   "id": "13c4f567-84b7-4971-aaf6-1e3574532a73",
   "metadata": {},
   "outputs": [
    {
     "data": {
      "text/plain": [
       "[array([0.2091817, 0.2091817, 0.2091817, 0.2091817]),\n",
       " array([0.19023041, 0.19023041, 0.19023041, 0.19023041]),\n",
       " [1.2187368967555523]]"
      ]
     },
     "execution_count": 741,
     "metadata": {},
     "output_type": "execute_result"
    }
   ],
   "source": [
    "dh"
   ]
  },
  {
   "cell_type": "code",
   "execution_count": 743,
   "id": "eb596792-e1a9-48fd-9b23-7c93f82bab3f",
   "metadata": {},
   "outputs": [
    {
     "data": {
      "text/plain": [
       "[array([[0.49457002, 0.74185503],\n",
       "        [0.49457002, 0.74185503],\n",
       "        [0.49457002, 0.74185503],\n",
       "        [0.49457002, 0.74185503]]),\n",
       " array([[0.02640278, 0.00131763, 0.0021075 , 0.0194176 ],\n",
       "        [0.02640278, 0.00131763, 0.0021075 , 0.0194176 ],\n",
       "        [0.02640278, 0.00131763, 0.0021075 , 0.0194176 ],\n",
       "        [0.02640278, 0.00131763, 0.0021075 , 0.0194176 ]]),\n",
       " array([[0.05402696, 0.06834515, 0.04049331, 0.04956386]])]"
      ]
     },
     "execution_count": 743,
     "metadata": {},
     "output_type": "execute_result"
    }
   ],
   "source": [
    "dw"
   ]
  },
  {
   "cell_type": "code",
   "execution_count": 755,
   "id": "e992ff59-4a54-43fa-a277-71b28d43865f",
   "metadata": {},
   "outputs": [
    {
     "data": {
      "text/plain": [
       "[array([[0.33940437, 0.33940437],\n",
       "        [0.96153286, 0.96153286],\n",
       "        [0.87196426, 0.87196426],\n",
       "        [0.42961636, 0.42961636]]),\n",
       " array([[0.01284093, 0.01284093, 0.01284093, 0.01284093],\n",
       "        [0.05683556, 0.05683556, 0.05683556, 0.05683556],\n",
       "        [0.57479666, 0.57479666, 0.57479666, 0.57479666],\n",
       "        [0.40054355, 0.40054355, 0.40054355, 0.40054355]]),\n",
       " array([[0.84989817, 0.84989817, 0.84989817, 0.84989817]])]"
      ]
     },
     "execution_count": 755,
     "metadata": {},
     "output_type": "execute_result"
    }
   ],
   "source": [
    "n.weights"
   ]
  },
  {
   "cell_type": "code",
   "execution_count": 756,
   "id": "40955eef-d0d6-43fb-b7c7-56485f77f48d",
   "metadata": {},
   "outputs": [
    {
     "data": {
      "text/plain": [
       "[[0.24728501003748946,\n",
       "  0.24728501003748946,\n",
       "  0.24728501003748946,\n",
       "  0.24728501003748946],\n",
       " [0.24775184595226393,\n",
       "  0.24775184595226393,\n",
       "  0.24775184595226393,\n",
       "  0.24775184595226393],\n",
       " [0.14726587684754022]]"
      ]
     },
     "execution_count": 756,
     "metadata": {},
     "output_type": "execute_result"
    }
   ],
   "source": [
    "db"
   ]
  },
  {
   "cell_type": "code",
   "execution_count": 745,
   "id": "df3fd2e1-0586-4823-b884-8e6de3d52712",
   "metadata": {},
   "outputs": [
    {
     "data": {
      "text/plain": [
       "[array([0.42924979, 0.42359939, 0.39855873, 0.31654906]),\n",
       " array([0.54312966, 0.13257623, 0.8553122 , 0.5990444 ]),\n",
       " array([0.29391765])]"
      ]
     },
     "execution_count": 745,
     "metadata": {},
     "output_type": "execute_result"
    }
   ],
   "source": [
    "n.bias"
   ]
  },
  {
   "cell_type": "code",
   "execution_count": 746,
   "id": "bd3e69b8-53a6-4f85-ac2c-50200ca06bbf",
   "metadata": {},
   "outputs": [
    {
     "data": {
      "text/plain": [
       "[[array([0.19039233, 0.03529102, 0.04677726, 0.1672285 ]),\n",
       "  array([0.36614851, 0.46068974, 0.24823572, 0.31536416]),\n",
       "  array([0.18608559])],\n",
       " [array([0.10656946, 0.00531833, 0.00850651, 0.07837518]),\n",
       "  array([0.36686679, 0.46409356, 0.27496737, 0.33656039]),\n",
       "  array([0.17947836])]]"
      ]
     },
     "execution_count": 746,
     "metadata": {},
     "output_type": "execute_result"
    }
   ],
   "source": [
    "n.h"
   ]
  },
  {
   "cell_type": "code",
   "execution_count": 804,
   "id": "b8e5577f-e663-493d-93e0-b9c5ef983b1e",
   "metadata": {},
   "outputs": [],
   "source": [
    "n.weights[0] = n.weights[0] - 0.01* np.array(dw[0])\n",
    "n.weights[1] = n.weights[1] - 0.01 * np.array(dw[1])\n",
    "n.weights[2] = n.weights[2] - np.array(dw[2])\n",
    "\n",
    "n.bias[0] = n.bias[0] - np.array(db[0])\n",
    "n.bias[1] = n.bias[1] - np.array(db[1])\n",
    "n.bias[2] = n.bias[2] - np.array(db[2])"
   ]
  },
  {
   "cell_type": "code",
   "execution_count": 805,
   "id": "1fea8452-a9f4-42db-9d2b-b1d90cf0081a",
   "metadata": {},
   "outputs": [
    {
     "data": {
      "text/plain": [
       "[array([[-5.15032285, -7.89518646],\n",
       "        [-4.52819436, -7.27305797],\n",
       "        [-4.61776296, -7.36262657],\n",
       "        [-5.06011086, -7.80497447]]),\n",
       " array([[-0.35838215, -0.00568488, -0.01679058, -0.26017047],\n",
       "        [-0.31438751,  0.03830975,  0.02720405, -0.21617584],\n",
       "        [ 0.20357358,  0.55627084,  0.54516514,  0.30178525],\n",
       "        [ 0.02932047,  0.38201773,  0.37091203,  0.12753215]]),\n",
       " array([[-0.17661405, -0.4486596 ,  0.08052527, -0.09181518]])]"
      ]
     },
     "execution_count": 805,
     "metadata": {},
     "output_type": "execute_result"
    }
   ],
   "source": [
    "n.weights"
   ]
  },
  {
   "cell_type": "code",
   "execution_count": 806,
   "id": "533312ad-7061-48e6-97e5-5cdec9150b48",
   "metadata": {},
   "outputs": [
    {
     "data": {
      "text/plain": [
       "[array([-3.03274035, -3.03839075, -3.06343141, -3.14544108]),\n",
       " array([-2.92539618, -3.33594961, -2.61321365, -2.86948144]),\n",
       " array([-1.76780463])]"
      ]
     },
     "execution_count": 806,
     "metadata": {},
     "output_type": "execute_result"
    }
   ],
   "source": [
    "n.bias"
   ]
  },
  {
   "cell_type": "code",
   "execution_count": null,
   "id": "025f33d6-cf68-4f16-85e5-96f5940d7917",
   "metadata": {},
   "outputs": [],
   "source": [
    "def fit(self, X, y, learning_rate, epoch):\n",
    "    "
   ]
  }
 ],
 "metadata": {
  "kernelspec": {
   "display_name": "Python 3 (ipykernel)",
   "language": "python",
   "name": "python3"
  },
  "language_info": {
   "codemirror_mode": {
    "name": "ipython",
    "version": 3
   },
   "file_extension": ".py",
   "mimetype": "text/x-python",
   "name": "python",
   "nbconvert_exporter": "python",
   "pygments_lexer": "ipython3",
   "version": "3.10.13"
  }
 },
 "nbformat": 4,
 "nbformat_minor": 5
}
